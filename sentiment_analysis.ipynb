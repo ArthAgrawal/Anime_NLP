{
 "cells": [
  {
   "cell_type": "code",
   "execution_count": 1,
   "metadata": {},
   "outputs": [
    {
     "name": "stdout",
     "output_type": "stream",
     "text": [
      "Sentiment Analysis Summary:\n",
      "Positive Comments: 44.44%\n",
      "Negative Comments: 11.11%\n",
      "Neutral Comments: 44.44%\n",
      "\n",
      "Comments with Sentiment:\n",
      "                                             comment sentiment\n",
      "0   I love the art style of manhwa; it's so vibrant!  positive\n",
      "1  Manga has a unique storytelling style that I r...  positive\n",
      "2   Manhwa is just a copy of manga; I don't like it.   neutral\n",
      "3  The difference is not that significant; both a...  positive\n",
      "4                        I prefer manga over manhwa.   neutral\n",
      "5  Manhwa has better character development in som...  positive\n",
      "6                Manga is boring compared to manhwa.  negative\n",
      "7  Both have their pros and cons; I appreciate both.   neutral\n",
      "8  I dislike how some people criticize manhwa wit...   neutral\n"
     ]
    }
   ],
   "source": [
    "import pandas as pd\n",
    "from textblob import TextBlob\n",
    "\n",
    "# Sample user comments for \"The Difference Between Manga and Manhwa\"\n",
    "comments = [\n",
    "    \"I love the art style of manhwa; it's so vibrant!\",\n",
    "    \"Manga has a unique storytelling style that I really enjoy.\",\n",
    "    \"Manhwa is just a copy of manga; I don't like it.\",\n",
    "    \"The difference is not that significant; both are great!\",\n",
    "    \"I prefer manga over manhwa.\",\n",
    "    \"Manhwa has better character development in some cases.\",\n",
    "    \"Manga is boring compared to manhwa.\",\n",
    "    \"Both have their pros and cons; I appreciate both.\",\n",
    "    \"I dislike how some people criticize manhwa without understanding it.\"\n",
    "]\n",
    "\n",
    "# Creating a DataFrame for the comments\n",
    "df_comments = pd.DataFrame(comments, columns=['comment'])\n",
    "\n",
    "# Function to classify sentiment based on TextBlob\n",
    "def analyze_sentiment(comment):\n",
    "    analysis = TextBlob(comment)\n",
    "    # Classify as positive, negative or neutral\n",
    "    if analysis.sentiment.polarity > 0:\n",
    "        return 'positive'\n",
    "    elif analysis.sentiment.polarity < 0:\n",
    "        return 'negative'\n",
    "    else:\n",
    "        return 'neutral'\n",
    "\n",
    "df_comments['sentiment'] = df_comments['comment'].apply(analyze_sentiment)\n",
    "\n",
    "sentiment_counts = df_comments['sentiment'].value_counts(normalize=True) * 100\n",
    "\n",
    "positive_percentage = sentiment_counts.get('positive', 0)\n",
    "negative_percentage = sentiment_counts.get('negative', 0)\n",
    "neutral_percentage = sentiment_counts.get('neutral', 0)\n",
    "\n",
    "print(\"Sentiment Analysis Summary:\")\n",
    "print(f\"Positive Comments: {positive_percentage:.2f}%\")\n",
    "print(f\"Negative Comments: {negative_percentage:.2f}%\")\n",
    "print(f\"Neutral Comments: {neutral_percentage:.2f}%\")\n",
    "\n",
    "print(\"\\nComments with Sentiment:\")\n",
    "print(df_comments)\n"
   ]
  }
 ],
 "metadata": {
  "kernelspec": {
   "display_name": "Python 3",
   "language": "python",
   "name": "python3"
  },
  "language_info": {
   "codemirror_mode": {
    "name": "ipython",
    "version": 3
   },
   "file_extension": ".py",
   "mimetype": "text/x-python",
   "name": "python",
   "nbconvert_exporter": "python",
   "pygments_lexer": "ipython3",
   "version": "3.10.15"
  }
 },
 "nbformat": 4,
 "nbformat_minor": 2
}
