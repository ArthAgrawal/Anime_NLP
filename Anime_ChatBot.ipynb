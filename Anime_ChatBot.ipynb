{
  "cells": [
    {
      "cell_type": "markdown",
      "metadata": {
        "id": "view-in-github",
        "colab_type": "text"
      },
      "source": [
        "<a href=\"https://colab.research.google.com/github/ArthAgrawal/Anime_NLP/blob/main/Anime_ChatBot.ipynb\" target=\"_parent\"><img src=\"https://colab.research.google.com/assets/colab-badge.svg\" alt=\"Open In Colab\"/></a>"
      ]
    },
    {
      "cell_type": "code",
      "execution_count": null,
      "metadata": {
        "colab": {
          "base_uri": "https://localhost:8080/"
        },
        "id": "8sVWJyeurWRI",
        "outputId": "8165f72b-f80e-4220-ddda-0f90eda8e12b"
      },
      "outputs": [
        {
          "name": "stdout",
          "output_type": "stream",
          "text": [
            "Requirement already satisfied: nltk in /usr/local/lib/python3.10/dist-packages (3.8.1)\n",
            "Requirement already satisfied: click in /usr/local/lib/python3.10/dist-packages (from nltk) (8.1.7)\n",
            "Requirement already satisfied: joblib in /usr/local/lib/python3.10/dist-packages (from nltk) (1.4.2)\n",
            "Requirement already satisfied: regex>=2021.8.3 in /usr/local/lib/python3.10/dist-packages (from nltk) (2024.9.11)\n",
            "Requirement already satisfied: tqdm in /usr/local/lib/python3.10/dist-packages (from nltk) (4.66.5)\n"
          ]
        }
      ],
      "source": [
        "!pip install nltk\n"
      ]
    },
    {
      "cell_type": "code",
      "execution_count": null,
      "metadata": {
        "colab": {
          "base_uri": "https://localhost:8080/"
        },
        "id": "35pX3uZErZNR",
        "outputId": "6daadd60-d342-4dd6-ebef-3ed1836c70a6"
      },
      "outputs": [
        {
          "name": "stderr",
          "output_type": "stream",
          "text": [
            "[nltk_data] Downloading package punkt to /root/nltk_data...\n",
            "[nltk_data]   Unzipping tokenizers/punkt.zip.\n"
          ]
        },
        {
          "data": {
            "text/plain": [
              "True"
            ]
          },
          "execution_count": 2,
          "metadata": {},
          "output_type": "execute_result"
        }
      ],
      "source": [
        "import nltk\n",
        "nltk.download('punkt')\n"
      ]
    },
    {
      "cell_type": "code",
      "execution_count": null,
      "metadata": {
        "colab": {
          "base_uri": "https://localhost:8080/"
        },
        "id": "hfzqMslfrZR9",
        "outputId": "4ec0eddb-5f54-423a-e285-3c9cb24ae6ba"
      },
      "outputs": [
        {
          "name": "stdout",
          "output_type": "stream",
          "text": [
            "Welcome to the Castle Swimmer Chatbot! Ask me anything about the story.\n",
            "Type 'exit' to end the conversation.\n",
            "You: Swimmer\n",
            "Chatbot: Castle Swimmer is a story that explores themes of friendship, adventure, and prophecy in a fantasy world.\n",
            "You: exit\n",
            "Chatbot: Goodbye!\n"
          ]
        }
      ],
      "source": [
        "import nltk\n",
        "from nltk.tokenize import word_tokenize\n",
        "\n",
        "# Define a basic knowledge base for \"Castle Swimmer\"\n",
        "knowledge_base = {\n",
        "    \"what is castle swimmer about\": \"Castle Swimmer is a story that explores themes of friendship, adventure, and prophecy in a fantasy world.\",\n",
        "    \"who are the main characters\": \"The main characters include the brave protagonist, a skilled swimmer, and various allies they meet on their journey.\",\n",
        "    \"what are the main themes\": \"The main themes include friendship, prophecy, and self-discovery.\",\n",
        "    \"who is the author\": \"The author of Castle Swimmer is a talented creator known for crafting engaging narratives in the fantasy genre.\",\n",
        "}\n",
        "\n",
        "# Function to get response based on user input\n",
        "def get_response(user_input):\n",
        "    # Tokenize the user input to extract keywords\n",
        "    tokens = word_tokenize(user_input.lower())\n",
        "\n",
        "    best_response = None\n",
        "    best_score = 0\n",
        "\n",
        "    # Check for keywords in the knowledge base\n",
        "    for question, answer in knowledge_base.items():\n",
        "        score = sum(token in question for token in tokens)\n",
        "        if score > best_score:\n",
        "            best_score = score\n",
        "            best_response = answer\n",
        "\n",
        "    if best_response:\n",
        "        return best_response\n",
        "    else:\n",
        "        return \"I'm sorry, I don't have an answer for that.\"\n",
        "\n",
        "# Chatbot loop\n",
        "def chat():\n",
        "    print(\"Welcome to the Castle Swimmer Chatbot! Ask me anything about the story.\")\n",
        "    print(\"Type 'exit' to end the conversation.\")\n",
        "\n",
        "    while True:\n",
        "        user_input = input(\"You: \")\n",
        "        if user_input.lower() == 'exit':\n",
        "            print(\"Chatbot: Goodbye!\")\n",
        "            break\n",
        "        response = get_response(user_input)\n",
        "        print(f\"Chatbot: {response}\")\n",
        "\n",
        "# Run the chatbot\n",
        "if __name__ == \"__main__\":\n",
        "    chat()\n"
      ]
    },
    {
      "cell_type": "code",
      "execution_count": null,
      "metadata": {
        "colab": {
          "background_save": true,
          "base_uri": "https://localhost:8080/"
        },
        "id": "UdkUm2Gpvcqw",
        "outputId": "88fcf28d-6f3c-431f-b4d9-a2e2f642fac3"
      },
      "outputs": [
        {
          "name": "stdout",
          "output_type": "stream",
          "text": [
            "Welcome to the Castle Swimmer Chatbot! Ask me anything about the story.\n",
            "Type 'exit' to end the conversation.\n",
            "Chatbot: This gripping section delves into the fallout of the revelation in Chapter 82, where a conversation shows the depth of Siren’s curse and the apparent eternity tormenting him and his people.\n",
            "Chatbot: I'm sorry, I don't have an answer for that.\n",
            "Chatbot: Castle Swimmer Chapter 83-89 raise the stakes, keeping secrets darker and more complex in character journeys than ever.\n"
          ]
        }
      ],
      "source": [
        "import requests\n",
        "from bs4 import BeautifulSoup\n",
        "from nltk.tokenize import sent_tokenize, word_tokenize\n",
        "import nltk\n",
        "\n",
        "# Download necessary NLTK data (uncomment the next line if needed)\n",
        "# nltk.download('punkt')\n",
        "\n",
        "# Function to scrape content from a website\n",
        "def scrape_content(url):\n",
        "    response = requests.get(url)\n",
        "    soup = BeautifulSoup(response.content, 'html.parser')\n",
        "\n",
        "    # Example: Extract text from paragraphs (you may need to adjust this)\n",
        "    content = ' '.join(p.text for p in soup.find_all('p'))\n",
        "    return content\n",
        "\n",
        "# Function to process the scraped content into a knowledge base\n",
        "def process_content(content):\n",
        "    sentences = sent_tokenize(content)  # Split the content into sentences\n",
        "    knowledge_base = {}\n",
        "\n",
        "    for sentence in sentences:\n",
        "        # Simple question generation based on certain patterns\n",
        "        if \"is\" in sentence:\n",
        "            question = sentence.lower().replace(\"is\", \"what is\")\n",
        "            knowledge_base[question] = sentence.strip()\n",
        "        elif \"who\" in sentence:\n",
        "            question = sentence.lower().replace(\"who\", \"who is\")\n",
        "            knowledge_base[question] = sentence.strip()\n",
        "        # Add more patterns as necessary\n",
        "\n",
        "    return knowledge_base\n",
        "\n",
        "# Function to get a response based on user input\n",
        "def get_response(user_input, knowledge_base):\n",
        "    # Tokenize the user input to extract keywords\n",
        "    tokens = word_tokenize(user_input.lower())\n",
        "\n",
        "    best_response = None\n",
        "    best_score = 0\n",
        "\n",
        "    # Check for keywords in the knowledge base\n",
        "    for question, answer in knowledge_base.items():\n",
        "        score = sum(token in question for token in tokens)\n",
        "        if score > best_score:\n",
        "            best_score = score\n",
        "            best_response = answer\n",
        "\n",
        "    if best_response:\n",
        "        return best_response\n",
        "    else:\n",
        "        return \"I'm sorry, I don't have an answer for that.\"\n",
        "\n",
        "# Chatbot loop\n",
        "def chat(knowledge_base):\n",
        "    print(\"Welcome to the Castle Swimmer Chatbot! Ask me anything about the story.\")\n",
        "    print(\"Type 'exit' to end the conversation.\")\n",
        "\n",
        "    while True:\n",
        "        user_input = input(\"You: \")\n",
        "        if user_input.lower() == 'exit':\n",
        "            print(\"Chatbot: Goodbye!\")\n",
        "            break\n",
        "        response = get_response(user_input, knowledge_base)\n",
        "        print(f\"Chatbot: {response}\")\n",
        "\n",
        "# Main function to run the chatbot\n",
        "if __name__ == \"__main__\":\n",
        "    # Replace with the URL containing content about Castle Swimmer\n",
        "    url = \"https://animemangatoon.com/castle-swimmer-unveiling-new-prophecy/\"  # Update this URL\n",
        "    content = scrape_content(url)\n",
        "    knowledge_base = process_content(content)\n",
        "\n",
        "    chat(knowledge_base)\n"
      ]
    }
  ],
  "metadata": {
    "colab": {
      "provenance": [],
      "authorship_tag": "ABX9TyO/Cmj4LsYbEcSAXPFXjozD",
      "include_colab_link": true
    },
    "kernelspec": {
      "display_name": "Python 3",
      "name": "python3"
    },
    "language_info": {
      "name": "python"
    }
  },
  "nbformat": 4,
  "nbformat_minor": 0
}